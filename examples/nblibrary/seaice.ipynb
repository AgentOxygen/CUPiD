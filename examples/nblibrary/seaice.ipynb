{
 "cells": [
  {
   "cell_type": "markdown",
   "id": "351f2902-54b0-463c-9d61-23574844481f",
   "metadata": {},
   "source": [
    "## Sea Ice Diagnostics for two CESM3 runs"
   ]
  },
  {
   "cell_type": "code",
   "execution_count": null,
   "id": "7e7f10ae-61c8-45f1-9d5c-9be60632b556",
   "metadata": {
    "editable": true,
    "slideshow": {
     "slide_type": ""
    },
    "tags": []
   },
   "outputs": [],
   "source": [
    "import xarray as xr\n",
    "import numpy as np\n",
    "import matplotlib.pyplot as plt\n",
    "import matplotlib.path as mpath\n",
    "from matplotlib.gridspec import GridSpec\n",
    "import cartopy.crs as ccrs\n",
    "import cartopy.feature as cfeature\n",
    "import cftime"
   ]
  },
  {
   "cell_type": "code",
   "execution_count": null,
   "id": "270b0ff5-779c-4293-8d06-bd91eb8eee2b",
   "metadata": {
    "editable": true,
    "slideshow": {
     "slide_type": ""
    },
    "tags": [
     "parameters"
    ]
   },
   "outputs": [],
   "source": [
    "CESM_output_dir = \"/glade/campaign/cesm/development/cross-wg/diagnostic_framework/CESM_output_for_testing\"\n",
    "cases = [\"b.e23_alpha16g.BLT1850.ne30_t232.073c\",\"b.e23_alpha16g.BLT1850.ne30_t232.075c\"]\n",
    "\n",
    "begyr1 = 1\n",
    "endyr1 = 38\n",
    "begyr2 = 1\n",
    "endyr2 = 38\n",
    "nyears = 25"
   ]
  },
  {
   "cell_type": "code",
   "execution_count": null,
   "id": "d3f591cc-dd67-4a3f-abe7-bfc740743db1",
   "metadata": {},
   "outputs": [],
   "source": [
    "# Read in two cases. The ADF timeseries are needed here.\n",
    "\n",
    "case1 = cases[0]\n",
    "case2 = cases[1]\n",
    "\n",
    "cbegyr1 = f\"{begyr1:04d}\"\n",
    "cendyr1 = f\"{endyr1:04d}\"\n",
    "cbegyr2 = f\"{begyr2:04d}\"\n",
    "cendyr2 = f\"{endyr2:04d}\"\n",
    "\n",
    "ds1 = xr.open_mfdataset(CESM_output_dir+\"/\"+case1+\"/ts/\"+case1+\".cice.h.\"+\"*.\"+cbegyr1+\"01-\"+cendyr1+\"12.nc\")\n",
    "ds2 = xr.open_mfdataset(CESM_output_dir+\"/\"+case2+\"/ts/\"+case2+\".cice.h.\"+\"*.\"+cbegyr1+\"01-\"+cendyr1+\"12.nc\")\n",
    "\n",
    "TLAT = ds1['TLAT']\n",
    "TLON = ds1['TLON']\n",
    "tarea = ds1['tarea']\n",
    "\n",
    "# Make a DataArray with the number of days in each month, size = len(time)\n",
    "month_length = ds1.time.dt.days_in_month\n",
    "weights_monthly = month_length.groupby(\"time.year\") / month_length.groupby(\"time.year\").sum()\n",
    "\n",
    "\n",
    "ds1_ann = (ds1 * weights_monthly).resample(time=\"YS\").sum(dim=\"time\")\n",
    "ds2_ann = (ds2 * weights_monthly).resample(time=\"YS\").sum(dim=\"time\")\n",
    "\n",
    "\n",
    "ds1_seas = (ds1 * weights_monthly).resample(time=\"QS-JAN\").sum(dim=\"time\")\n",
    "ds2_seas = (ds2 * weights_monthly).resample(time=\"QS-JAN\").sum(dim=\"time\")\n",
    "\n",
    "h1_ann = ds1_ann['hi']\n",
    "h2_ann = ds2_ann['hi']"
   ]
  },
  {
   "cell_type": "code",
   "execution_count": null,
   "id": "da24abe2-7b48-4c3d-b8a5-95847029bd74",
   "metadata": {},
   "outputs": [],
   "source": [
    "def plot_diff(field1, field2, vmax, case1, case2, title, proj):\n",
    "   # make circular boundary for polar stereographic circular plots\n",
    "   theta = np.linspace(0, 2*np.pi, 100)\n",
    "   center, radius = [0.5, 0.5], 0.5\n",
    "   verts = np.vstack([np.sin(theta), np.cos(theta)]).T\n",
    "   circle = mpath.Path(verts * radius + center)\n",
    "\n",
    "   # set up the figure with a North Polar Stereographic projection\n",
    "   fig = plt.figure(tight_layout=True)\n",
    "   gs = GridSpec(2, 4)\n",
    "\n",
    "   if (proj == \"N\"):\n",
    "      ax = fig.add_subplot(gs[0,:2], projection=ccrs.NorthPolarStereo())\n",
    "      # sets the latitude / longitude boundaries of the plot\n",
    "      ax.set_extent([0.005, 360, 90, 45], crs=ccrs.PlateCarree())\n",
    "   if (proj == \"S\"):\n",
    "      ax = fig.add_subplot(gs[0,:2], projection=ccrs.SouthPolarStereo())\n",
    "      # sets the latitude / longitude boundaries of the plot\n",
    "      ax.set_extent([0.005, 360, -90, -45], crs=ccrs.PlateCarree())\n",
    "\n",
    "   ax.set_boundary(circle, transform=ax.transAxes)\n",
    "   ax.add_feature(cfeature.LAND,zorder=100,edgecolor='k')\n",
    "\n",
    "   field_diff = field2.values-field1.values\n",
    "   field_std = field_diff.std()\n",
    "\n",
    "   this=ax.pcolormesh(TLON,\n",
    "                     TLAT,\n",
    "                     field1,\n",
    "                     vmax = vmax,\n",
    "                     cmap=\"Paired\",\n",
    "                     transform=ccrs.PlateCarree())\n",
    "   plt.colorbar(this,orientation='vertical',fraction=0.04,pad=0.01)\n",
    "   plt.title(case1,fontsize=10)\n",
    "\n",
    "   if (proj == \"N\"):\n",
    "      ax = fig.add_subplot(gs[0,2:], projection=ccrs.NorthPolarStereo())\n",
    "      # sets the latitude / longitude boundaries of the plot\n",
    "      ax.set_extent([0.005, 360, 90, 45], crs=ccrs.PlateCarree())\n",
    "   if (proj == \"S\"):\n",
    "      ax = fig.add_subplot(gs[0,2:], projection=ccrs.SouthPolarStereo())\n",
    "      # sets the latitude / longitude boundaries of the plot\n",
    "      ax.set_extent([0.005, 360, -90, -45], crs=ccrs.PlateCarree())\n",
    "\n",
    "   ax.set_boundary(circle, transform=ax.transAxes)\n",
    "   ax.add_feature(cfeature.LAND,zorder=100,edgecolor='k')\n",
    "\n",
    "   this=ax.pcolormesh(TLON,\n",
    "                      TLAT,\n",
    "                      field2,\n",
    "                      vmax=vmax,\n",
    "                      cmap=\"Paired\",\n",
    "                      transform=ccrs.PlateCarree())\n",
    "   plt.colorbar(this,orientation='vertical',fraction=0.04,pad=0.01)\n",
    "   plt.title(case2,fontsize=10)\n",
    "\n",
    "   if (proj == \"N\"):\n",
    "      ax = fig.add_subplot(gs[1,1:3], projection=ccrs.NorthPolarStereo())\n",
    "      # sets the latitude / longitude boundaries of the plot\n",
    "      ax.set_extent([0.005, 360, 90, 45], crs=ccrs.PlateCarree())\n",
    "   if (proj == \"S\"):\n",
    "      ax = fig.add_subplot(gs[1,1:3], projection=ccrs.SouthPolarStereo())\n",
    "      # sets the latitude / longitude boundaries of the plot\n",
    "      ax.set_extent([0.005, 360, -90, -45], crs=ccrs.PlateCarree())\n",
    "\n",
    "   ax.set_boundary(circle, transform=ax.transAxes)\n",
    "   ax.add_feature(cfeature.LAND,zorder=100,edgecolor='k')\n",
    "\n",
    "   this=ax.pcolormesh(TLON,\n",
    "                      TLAT,\n",
    "                      field_diff,\n",
    "                      cmap=\"seismic\",vmax=field_std*2.0,vmin=-field_std*2.0,\n",
    "                      transform=ccrs.PlateCarree())\n",
    "   plt.colorbar(this,orientation='vertical',fraction=0.04,pad=0.01)\n",
    "   plt.title(case2+\"-\"+case1,fontsize=10)\n",
    "\n",
    "   plt.suptitle(title)\n"
   ]
  },
  {
   "cell_type": "code",
   "execution_count": null,
   "id": "28a0da20-6bad-45d7-a61a-43d55ea2acd2",
   "metadata": {},
   "outputs": [],
   "source": [
    "field1 = ds1_ann['aice'].isel(time=slice(-nyears,None)).mean(\"time\").squeeze()\n",
    "field2 = ds2_ann['aice'].isel(time=slice(-nyears,None)).mean(\"time\").squeeze()\n",
    "\n",
    "plot_diff(field1,field2,1.0,case1,case2,\"Sea Ice Concentration\",\"N\")"
   ]
  },
  {
   "cell_type": "code",
   "execution_count": null,
   "id": "2c58f985-814d-4429-9917-fb0c15a4b2ee",
   "metadata": {},
   "outputs": [],
   "source": [
    "field1 = ds1_ann['hi'].isel(time=slice(-nyears,None)).mean(\"time\").squeeze()\n",
    "field2 = ds2_ann['hi'].isel(time=slice(-nyears,None)).mean(\"time\").squeeze()\n",
    "\n",
    "plot_diff(field1,field2,5.0,case1,case2,\"Sea Ice Thickness (m)\",\"N\")"
   ]
  },
  {
   "cell_type": "code",
   "execution_count": null,
   "id": "d32f3af9-8d4d-4908-b12b-0c355d4644af",
   "metadata": {},
   "outputs": [],
   "source": [
    "field1 = ds1_ann['hs'].isel(time=slice(-nyears,None)).mean(\"time\").squeeze()\n",
    "field2 = ds2_ann['hs'].isel(time=slice(-nyears,None)).mean(\"time\").squeeze()\n",
    "\n",
    "plot_diff(field1,field2,0.5,case1,case2,\"Snow Depth (m)\",\"N\")"
   ]
  },
  {
   "cell_type": "code",
   "execution_count": null,
   "id": "ab99806f-31e8-41a1-8e1d-752c0d4325dc",
   "metadata": {},
   "outputs": [],
   "source": [
    "field1 = ds1_ann['hs'].isel(time=slice(-nyears,None)).mean(\"time\").squeeze()\n",
    "field2 = ds2_ann['hs'].isel(time=slice(-nyears,None)).mean(\"time\").squeeze()\n",
    "\n",
    "plot_diff(field1,field2,1.0,case1,case2,\"Sea Ice Concentration\",\"S\")"
   ]
  },
  {
   "cell_type": "code",
   "execution_count": null,
   "id": "ab1c8910-677e-4345-8f06-ec3f7a4a9f07",
   "metadata": {},
   "outputs": [],
   "source": [
    "ds1_area = (tarea*ds1.aice).where(TLAT>0).sum(dim=['nj','ni'])*1.0e-12\n",
    "ds2_area = (tarea*ds2.aice).where(TLAT>0).sum(dim=['nj','ni'])*1.0e-12\n",
    "\n",
    "ds1_area.plot()\n",
    "ds2_area.plot()\n",
    "\n",
    "plt.ylim((0,25))\n",
    "plt.xlabel(\"Month\")\n",
    "plt.ylabel(\"NH Sea Ice Area $m x 10^{12}$\")\n",
    "plt.legend([case1,case2])"
   ]
  },
  {
   "cell_type": "code",
   "execution_count": null,
   "id": "cbf46c87-c3be-4a9e-90e8-e2a6633109e3",
   "metadata": {},
   "outputs": [],
   "source": [
    "ds1_area_ann = (tarea*aice1_ann).where(TLAT>0).sum(dim=['nj','ni'])*1.0e-12\n",
    "ds2_area_ann = (tarea*aice2_ann).where(TLAT>0).sum(dim=['nj','ni'])*1.0e-12\n",
    "\n",
    "ds1_area_ann.plot()\n",
    "ds2_area_ann.plot()\n",
    "\n",
    "plt.ylim((0,25))\n",
    "plt.xlabel(\"Year\")\n",
    "plt.ylabel(\"NH Annual Mean Sea Ice Area $m x 10^{12}$\")\n",
    "plt.legend([case1,case2])"
   ]
  },
  {
   "cell_type": "code",
   "execution_count": null,
   "id": "90d62f0a-e43b-4bad-a759-0133bc2860aa",
   "metadata": {},
   "outputs": [],
   "source": [
    "ds1_area.sel(time=ds1_area.time.dt.month.isin([10])).plot()\n",
    "ds2_area.sel(time=ds2_area.time.dt.month.isin([10])).plot()\n",
    "\n",
    "plt.ylim((0,25))\n",
    "plt.xlabel(\"Year\")\n",
    "plt.ylabel(\"NH September Sea Ice Area $m x 10^{12}$\")\n",
    "plt.legend([case1,case2])"
   ]
  },
  {
   "cell_type": "code",
   "execution_count": null,
   "id": "45366ccd-555b-49aa-93a2-51b83e802d16",
   "metadata": {},
   "outputs": [],
   "source": [
    "ds1_area = (tarea*ds1.aice).where(TLAT<0).sum(dim=['nj','ni'])*1.0e-12\n",
    "ds2_area = (tarea*ds2.aice).where(TLAT<0).sum(dim=['nj','ni'])*1.0e-12\n",
    "\n",
    "ds1_area.plot()\n",
    "ds2_area.plot()\n",
    "\n",
    "plt.ylim((0,25))\n",
    "plt.xlabel(\"Month\")\n",
    "plt.ylabel(\"SH Sea Ice Area $m x 10^{12}$\")\n",
    "plt.legend([case1,case2])"
   ]
  },
  {
   "cell_type": "code",
   "execution_count": null,
   "id": "68400aca-aa0c-47f1-b7de-2c34dca5ac70",
   "metadata": {},
   "outputs": [],
   "source": [
    "ds1_area_ann = (tarea*aice1_ann).where(TLAT<0).sum(dim=['nj','ni'])*1.0e-12\n",
    "ds2_area_ann = (tarea*aice2_ann).where(TLAT<0).sum(dim=['nj','ni'])*1.0e-12\n",
    "\n",
    "ds1_area_ann.plot()\n",
    "ds2_area_ann.plot()\n",
    "\n",
    "plt.ylim((0,25))\n",
    "plt.xlabel(\"Year\")\n",
    "plt.ylabel(\"SH Annual Mean Sea Ice Area $m x 10^{12}$\")\n",
    "plt.legend([case1,case2])"
   ]
  },
  {
   "cell_type": "code",
   "execution_count": null,
   "id": "de2232e9-2705-4894-b98a-a93082ae7f79",
   "metadata": {
    "tags": []
   },
   "outputs": [],
   "source": [
    "##### Add the data values manually from the datafile.\n",
    "##### Create an xarray object with the NSIDC values and the years from 1979 to 2022.\n",
    "\n",
    "seaice_index = [4.58,4.87,4.44,4.43,4.7,4.11,4.23,4.72,5.64,5.36,4.86,4.55,4.51,5.43,4.58,5.13,4.43,5.62,\\\n",
    "                4.89,4.3,4.29,4.35,4.59,4.03,4.05,4.39,4.07,4.01,2.82,3.26,3.76,3.34,3.21,2.41,3.78,3.74,\\\n",
    "                3.42,2.91,3.35,3.35,3.17,2.83,3.47,3.47]\n",
    "\n",
    "# Convert to m^2\n",
    "seaice_index = np.array(seaice_index)\n",
    "#seaice_index *= 1e12\n",
    "\n",
    "nsidc_time = [cftime.datetime(y, 10, 15) for y in range(1,45)]\n",
    "\n",
    "nsidc_index = xr.DataArray(data=seaice_index,coords={\"time\":nsidc_time})\n",
    "\n",
    "nsidc_index\n"
   ]
  },
  {
   "cell_type": "code",
   "execution_count": null,
   "id": "00fc5097-af7d-4cf2-94ab-bb4e0a63960c",
   "metadata": {},
   "outputs": [],
   "source": [
    "ds1_area = (tarea*ds1.aice).where(TLAT>0).sum(dim=['nj','ni'])*1.0e-12\n",
    "ds2_area = (tarea*ds2.aice).where(TLAT>0).sum(dim=['nj','ni'])*1.0e-12\n",
    "\n",
    "ds1_area.sel(time=ds1_area.time.dt.month.isin([10])).plot()\n",
    "ds2_area.sel(time=ds2_area.time.dt.month.isin([10])).plot()\n",
    "nsidc_index.plot()\n",
    "\n",
    "plt.ylim((0,25))\n",
    "plt.xlabel(\"Month\")\n",
    "plt.ylabel(\"Sea Ice Area $mx10^{12}$\")\n",
    "plt.legend([case1,case2,\"NSIDC\"])"
   ]
  },
  {
   "cell_type": "code",
   "execution_count": null,
   "id": "b9a9ad99-e580-4188-a328-950c84eb1b62",
   "metadata": {},
   "outputs": [],
   "source": []
  },
  {
   "cell_type": "code",
   "execution_count": null,
   "id": "cfc18c63-fc78-45c3-a402-cfa57a6827cd",
   "metadata": {},
   "outputs": [],
   "source": []
  }
 ],
 "metadata": {
  "kernelspec": {
   "display_name": "Python [conda env:cupid-analysis]",
   "language": "python",
   "name": "conda-env-cupid-analysis-py"
  },
  "language_info": {
   "codemirror_mode": {
    "name": "ipython",
    "version": 3
   },
   "file_extension": ".py",
   "mimetype": "text/x-python",
   "name": "python",
   "nbconvert_exporter": "python",
   "pygments_lexer": "ipython3",
   "version": "3.11.4"
  }
 },
 "nbformat": 4,
 "nbformat_minor": 5
}
