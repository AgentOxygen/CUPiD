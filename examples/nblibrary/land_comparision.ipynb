{
 "cells": [
  {
   "cell_type": "code",
   "execution_count": null,
   "id": "e926996f",
   "metadata": {
    "tags": [
     "parameters"
    ]
   },
   "outputs": [],
   "source": [
    "# add default values for parameters here"
   ]
  },
  {
   "cell_type": "markdown",
   "id": "8c041f27-4806-4e23-8b88-8f7db7d80934",
   "metadata": {},
   "source": [
    "## Simple example comparing land variables from two simulations\n",
    "Created by wwieder@ucar.edu, Jan 2024\n",
    "\n",
    "- paths are harded coded for now\n",
    "- quickly (and inaccurately) calcultes a 5 year mean from raw, .h0., files.\n",
    "- plots global means and differences which  also not very nice to look at, especially since this points to a 4x5 grid."
   ]
  },
  {
   "cell_type": "code",
   "execution_count": null,
   "id": "272137cc-fef5-47ca-8f64-43d65c484e5e",
   "metadata": {},
   "outputs": [],
   "source": [
    "%load_ext autoreload\n",
    "%autoreload 2\n",
    "\n",
    "import os\n",
    "import time\n",
    "import datetime\n",
    "import calendar\n",
    "import cftime\n",
    "\n",
    "from glob import glob\n",
    "from os.path import join\n",
    "\n",
    "import dask\n",
    "\n",
    "import numpy as np\n",
    "import pandas as pd\n",
    "import xarray as xr\n",
    "\n",
    "import matplotlib\n",
    "import matplotlib.pyplot as plt\n",
    "import matplotlib.dates as mdates\n",
    "from matplotlib.pyplot import cm\n",
    "import cartopy.crs as ccrs\n",
    "\n",
    "from distributed import wait\n",
    "\n",
    "%matplotlib inline"
   ]
  },
  {
   "cell_type": "raw",
   "id": "2fd07a40-172e-435e-84e9-e422ae920220",
   "metadata": {},
   "source": [
    "# Updated for PBS scheduler\n",
    "# this could go into utils.\n",
    "# By default gets 1 core w/ 25 GB memory\n",
    "def get_ClusterClient(ncores=1, nmem='25GB'):\n",
    "    import dask\n",
    "    from dask_jobqueue import PBSCluster\n",
    "    from dask.distributed import Client\n",
    "    ncores=ncores\n",
    "    nmem = nmem\n",
    "\n",
    "    cluster = PBSCluster(\n",
    "        cores=ncores, # The number of cores you want\n",
    "        memory=nmem, # Amount of memory\n",
    "        processes=ncores, # How many processes\n",
    "        queue='casper', # The type of queue to utilize (/glade/u/apps/dav/opt/usr/bin/execcasper)\n",
    "        resource_spec='select=1:ncpus='+str(ncores)+':mem='+nmem, # Specify resources\n",
    "        project='P93300641', # Input your project ID here\n",
    "        walltime='2:00:00', # Amount of wall time\n",
    "        interface='ext', # Interface to use  'lo' provided a cluster window, below.\n",
    "    )\n",
    "\n",
    "    dask.config.set({\n",
    "        'distributed.dashboard.link':\n",
    "        'https://jupyterhub.hpc.ucar.edu/stable/user/{USER}/proxy/{port}/status'\n",
    "    })\n",
    "\n",
    "    client = Client(cluster)\n",
    "    return cluster, client"
   ]
  },
  {
   "cell_type": "raw",
   "id": "e6c2ec6c-628c-4b0a-bb00-a2739422b4d8",
   "metadata": {},
   "source": [
    "cluster, client = get_ClusterClient(nmem='1GB')\n",
    "cluster.scale(10) \n",
    "cluster"
   ]
  },
  {
   "cell_type": "code",
   "execution_count": null,
   "id": "fa455dab-7453-4245-bebe-113bbf73a04c",
   "metadata": {},
   "outputs": [],
   "source": [
    "# -- read only these variables from the whole netcdf files\n",
    "# average over time\n",
    "def preprocess (ds):\n",
    "    variables = ['TOTECOSYSC', 'TOTVEGC','TOTSOMC',\n",
    "                 'SOM_PAS_C_vr']\n",
    "\n",
    "    ds_new= ds[variables]\n",
    "    return ds_new\n",
    "\n"
   ]
  },
  {
   "cell_type": "code",
   "execution_count": null,
   "id": "6355b17a-9c19-4427-ac56-79f75756a9f2",
   "metadata": {},
   "outputs": [],
   "source": [
    "case = 'ctsm51d159_f45_GSWP3_bgccrop_'\n",
    "type = ['1850pAD','1850pSASU']\n",
    "cases = [case+'1850pAD',case+'1850pSASU']\n",
    "cases"
   ]
  },
  {
   "cell_type": "code",
   "execution_count": null,
   "id": "5d19b1a2-8bfe-407f-a739-d2eb279128bf",
   "metadata": {},
   "outputs": [],
   "source": [
    "for c in range(len(cases)):\n",
    "\n",
    "    sim_files =[]\n",
    "    sim_path = \"/glade/campaign/cesm/development/cross-wg/diagnostic_framework/CESM_output_for_testing/\"\n",
    "    sim_path = sim_path+cases[c]+\"/lnd/hist/\"\n",
    "    sim_files.extend(sorted(glob(join(sim_path+cases[c]+\".clm2.h0.*.nc\"))))\n",
    "    # subset last 5 years of data \n",
    "    sim_files = sim_files[-60:None]\n",
    "    print(\"All simulation files for \"+cases[c]+\": [\", len(sim_files), \"files]\")\n",
    "\n",
    "    temp = xr.open_mfdataset(sim_files, decode_times=True, combine='by_coords',\n",
    "                             parallel=True,preprocess=preprocess).mean('time')\n",
    "  \n",
    "    if c == 0:\n",
    "        ds = temp\n",
    "    else:\n",
    "        ds = xr.concat([ds, temp],'case')\n",
    "        \n",
    "ds = ds.assign_coords({\"case\": type})\n",
    "\n",
    "# Calculate differences\n",
    "diff = ds.isel(case=1)  - ds.isel(case=0) \n",
    "rel_diff = diff / ds.isel(case=1) "
   ]
  },
  {
   "cell_type": "markdown",
   "id": "0fef21f3-7fb2-4eca-b2d9-31079c350416",
   "metadata": {},
   "source": [
    "### Quickplots of pSASU results & difference from pAD"
   ]
  },
  {
   "cell_type": "code",
   "execution_count": null,
   "id": "d8bbcea9-ee0d-40d0-a5ad-9a3e5b4a36bb",
   "metadata": {},
   "outputs": [],
   "source": [
    "plt.figure(figsize=[14,14])\n",
    "var = ['TOTECOSYSC' ,'TOTVEGC','TOTSOMC']\n",
    "#var = ['GPP' ,'ELAI','ALT']\n",
    "i = 1\n",
    "for v in range(len(var)):\n",
    "    plt.subplot(3, 2, i)\n",
    "    ds[var[v]].isel(case=1).plot(robust=True)  \n",
    "    plt.title(\"pSASU \"+ var[v])\n",
    "    plt.xlabel(None)\n",
    "    plt.ylabel(None)\n",
    "    i = i+1\n",
    "    \n",
    "    plt.subplot(3, 2, i)\n",
    "    diff[var[v]].plot(robust=True) \n",
    "    plt.title(\"pSASU - pAD \"+ var[v]) \n",
    "    plt.xlabel(None)\n",
    "    plt.ylabel(None)   \n",
    "    i = i+1\n"
   ]
  },
  {
   "cell_type": "markdown",
   "id": "d5aa3ba5-6d74-47ac-9007-ff763ddd938d",
   "metadata": {},
   "source": [
    "### lower soil C stocks at high latitues\n",
    "- Look at depth profiles of C pools for a few points (also hard coded for now)"
   ]
  },
  {
   "cell_type": "code",
   "execution_count": null,
   "id": "cd253f9e-8760-4d27-b0a6-dd97b77f2f03",
   "metadata": {},
   "outputs": [],
   "source": [
    "plt.figure(figsize=[10,5])\n",
    "var = 'SOM_PAS_C_vr'\n",
    "plt.subplot(1, 4, 1)\n",
    "ds[var].sel(lon=300,lat=-10, method='nearest').plot(hue='case',y='levsoi') ;\n",
    "plt.gca().invert_yaxis() ;\n",
    "plt.title('Tropical')\n",
    "plt.ylabel('depth (m)')\n",
    "plt.xscale('log',base=10) \n",
    "#plt.ylim(6,0)\n",
    "\n",
    "\n",
    "plt.subplot(1, 4, 2)\n",
    "ds[var].sel(lon=25,lat=50, method='nearest').plot(hue='case',y='levsoi') ;\n",
    "plt.gca().invert_yaxis() ;\n",
    "plt.title('Temperate')\n",
    "plt.ylabel(None)\n",
    "plt.xscale('log',base=10) \n",
    "#plt.ylim(6,0)\n",
    "\n",
    "plt.subplot(1, 4, 3)\n",
    "ds[var].sel(lon=155,lat=66, method='nearest').plot(hue='case',y='levsoi') ;\n",
    "plt.gca().invert_yaxis() ;\n",
    "plt.title('Arctic')\n",
    "plt.ylabel(None)\n",
    "plt.xscale('log',base=10) \n",
    "#plt.ylim(6,0)\n",
    "\n",
    "\n",
    "plt.subplot(1, 4, 4)\n",
    "ds[var].sel(lon=155,lat=66, method='nearest').plot(hue='case',y='levsoi') ;\n",
    "plt.gca().invert_yaxis() ;\n",
    "plt.title('Arctic')\n",
    "plt.ylabel(None)\n",
    "#plt.ylim(6,0)"
   ]
  },
  {
   "cell_type": "markdown",
   "id": "b3f729af-05b4-4540-b4b5-567cc1cbe8f2",
   "metadata": {},
   "source": [
    "### Big blob of passive C with depth in pAD"
   ]
  },
  {
   "cell_type": "code",
   "execution_count": null,
   "id": "c10babf2-4530-4ca9-b304-4db7fb6a965d",
   "metadata": {},
   "outputs": [],
   "source": []
  },
  {
   "cell_type": "code",
   "execution_count": null,
   "id": "a6d508e9-5007-4e9a-9b1f-64a386310644",
   "metadata": {},
   "outputs": [],
   "source": []
  }
 ],
 "metadata": {
  "kernelspec": {
   "display_name": "Python [conda env:miniconda3-cupid-analysis]",
   "language": "python",
   "name": "conda-env-miniconda3-cupid-analysis-py"
  },
  "language_info": {
   "codemirror_mode": {
    "name": "ipython",
    "version": 3
   },
   "file_extension": ".py",
   "mimetype": "text/x-python",
   "name": "python",
   "nbconvert_exporter": "python",
   "pygments_lexer": "ipython3",
   "version": "3.11.4"
  }
 },
 "nbformat": 4,
 "nbformat_minor": 5
}
